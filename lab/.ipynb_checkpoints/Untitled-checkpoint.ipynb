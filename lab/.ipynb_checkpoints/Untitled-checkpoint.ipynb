{
 "cells": [
  {
   "cell_type": "markdown",
   "id": "f0fbedd7-604c-4104-9c79-b81917bdc308",
   "metadata": {},
   "source": [
    "# Maxwell velocity analyser"
   ]
  },
  {
   "cell_type": "code",
   "execution_count": 1,
   "id": "17e8d8ab-bb5c-411a-9b60-4033da3e1bdb",
   "metadata": {},
   "outputs": [
    {
     "data": {
      "application/vnd.jupyter.widget-view+json": {
       "model_id": "0fcc10c9047749aa9dab52a63d400c06",
       "version_major": 2,
       "version_minor": 0
      },
      "text/plain": []
     },
     "metadata": {},
     "output_type": "display_data"
    },
    {
     "ename": "ModuleNotFoundError",
     "evalue": "No module named 'ovito'",
     "output_type": "error",
     "traceback": [
      "\u001b[0;31m---------------------------------------------------------------------------\u001b[0m",
      "\u001b[0;31mModuleNotFoundError\u001b[0m                       Traceback (most recent call last)",
      "\u001b[0;32m/tmp/ipykernel_416991/3283168776.py\u001b[0m in \u001b[0;36m<module>\u001b[0;34m\u001b[0m\n\u001b[1;32m      3\u001b[0m \u001b[0;32mimport\u001b[0m \u001b[0mplotly\u001b[0m\u001b[0;34m\u001b[0m\u001b[0;34m\u001b[0m\u001b[0m\n\u001b[1;32m      4\u001b[0m \u001b[0;32mimport\u001b[0m \u001b[0mnglview\u001b[0m\u001b[0;34m\u001b[0m\u001b[0;34m\u001b[0m\u001b[0m\n\u001b[0;32m----> 5\u001b[0;31m \u001b[0;32mimport\u001b[0m \u001b[0movito\u001b[0m\u001b[0;34m\u001b[0m\u001b[0;34m\u001b[0m\u001b[0m\n\u001b[0m",
      "\u001b[0;31mModuleNotFoundError\u001b[0m: No module named 'ovito'"
     ]
    }
   ],
   "source": [
    "import matplotlib.pyplot as plt\n",
    "import numpy as np\n",
    "import plotly \n",
    "import nglview\n",
    "import ovito"
   ]
  },
  {
   "cell_type": "code",
   "execution_count": 2,
   "id": "31547ee4-0001-4f8a-8e41-b5187d77de62",
   "metadata": {},
   "outputs": [],
   "source": [
    "Coord_dict={}\n",
    "currentStep=0\n",
    "numberParticles=0\n",
    "walls=[0,0,0]\n",
    "readTimestep=0\n",
    "readNAtoms=0\n",
    "readCell=0\n",
    "readParticle=0\n",
    "f = open(\"melt/dump.melt\", \"r\")\n",
    "n=10\n",
    "for line in f.readlines():\n",
    "    line=line[:-1]\n",
    "    if (line==\"ITEM: TIMESTEP\"):\n",
    "        # print(\"READ1\")\n",
    "        readTimestep=1\n",
    "        continue\n",
    "    if readTimestep:\n",
    "        # print(\"READ2\")\n",
    "        readTimestep=0\n",
    "        currentStep=int(line)\n",
    "        Coord_dict[currentStep]=[]\n",
    "        continue\n",
    "    if (line==\"ITEM: NUMBER OF ATOMS\"):\n",
    "        readNAtoms=1\n",
    "        continue\n",
    "    if readNAtoms:\n",
    "        readNAtoms=0\n",
    "        numberParticles=int(line)\n",
    "        continue\n",
    "    if (line==\"ITEM: BOX BOUNDS pp pp pp\"):\n",
    "        readCell=3\n",
    "        continue\n",
    "    if readCell>0:\n",
    "        readCell-=1\n",
    "        walls[readCell]=float(line.split()[1])\n",
    "        continue\n",
    "    if (line==\"ITEM: ATOMS id type xs ys zs\"):\n",
    "        readParticle=numberParticles\n",
    "        continue\n",
    "    if readParticle>0:\n",
    "        readParticle-=1\n",
    "        Coord_dict[currentStep].append([float(x) for x in line.split()[2:]])\n",
    "        continue\n",
    "   \n"
   ]
  },
  {
   "cell_type": "code",
   "execution_count": 3,
   "id": "1e0ed5af-8df3-43fc-a691-3ccc7eaff9bc",
   "metadata": {},
   "outputs": [
    {
     "ename": "SyntaxError",
     "evalue": "invalid syntax (3925152407.py, line 1)",
     "output_type": "error",
     "traceback": [
      "\u001b[0;36m  File \u001b[0;32m\"/tmp/ipykernel_454633/3925152407.py\"\u001b[0;36m, line \u001b[0;32m1\u001b[0m\n\u001b[0;31m    for step in Coord_dict\u001b[0m\n\u001b[0m                          ^\u001b[0m\n\u001b[0;31mSyntaxError\u001b[0m\u001b[0;31m:\u001b[0m invalid syntax\n"
     ]
    }
   ],
   "source": [
    "for step in Coord_dict"
   ]
  },
  {
   "cell_type": "code",
   "execution_count": null,
   "id": "6b04e263-2184-464c-b333-8d1db1fbb537",
   "metadata": {},
   "outputs": [],
   "source": [
    "plt.hist2d"
   ]
  }
 ],
 "metadata": {
  "kernelspec": {
   "display_name": "Python 3 (ipykernel)",
   "language": "python",
   "name": "python3"
  },
  "language_info": {
   "codemirror_mode": {
    "name": "ipython",
    "version": 3
   },
   "file_extension": ".py",
   "mimetype": "text/x-python",
   "name": "python",
   "nbconvert_exporter": "python",
   "pygments_lexer": "ipython3",
   "version": "3.9.7"
  }
 },
 "nbformat": 4,
 "nbformat_minor": 5
}
